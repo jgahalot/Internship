{
 "cells": [
  {
   "cell_type": "code",
   "execution_count": null,
   "id": "13d08722",
   "metadata": {},
   "outputs": [],
   "source": [
    "import math\n",
    "\n",
    "a = float(input(\"Enter base: \"))\n",
    "b = float(input(\"Enter height: \"))\n",
    "x = float(input(\"Enter angle: \"))\n",
    "\n",
    "c = math.sqrt(a ** 2 + b ** 2)\n",
    "\n",
    "print(\"Hypotenuse =\", c)"
   ]
  }
 ],
 "metadata": {
  "kernelspec": {
   "display_name": "Python 3",
   "language": "python",
   "name": "python3"
  },
  "language_info": {
   "codemirror_mode": {
    "name": "ipython",
    "version": 3
   },
   "file_extension": ".py",
   "mimetype": "text/x-python",
   "name": "python",
   "nbconvert_exporter": "python",
   "pygments_lexer": "ipython3",
   "version": "3.8.8"
  }
 },
 "nbformat": 4,
 "nbformat_minor": 5
}
