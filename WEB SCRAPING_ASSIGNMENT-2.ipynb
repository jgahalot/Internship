{
 "cells": [
  {
   "cell_type": "code",
   "execution_count": 1,
   "id": "d261d67c",
   "metadata": {
    "scrolled": true
   },
   "outputs": [],
   "source": [
    "#Lets import all required libraries\n",
    "import selenium\n",
    "from selenium import webdriver\n",
    "import pandas as pd\n",
    "import warnings\n",
    "import time\n",
    "warnings.filterwarnings(\"ignore\")"
   ]
  },
  {
   "cell_type": "markdown",
   "id": "cdd6c5b2",
   "metadata": {},
   "source": [
    "# Q1.Data Analyst Job_Bangalore"
   ]
  },
  {
   "cell_type": "code",
   "execution_count": 2,
   "id": "b054723e",
   "metadata": {
    "scrolled": true
   },
   "outputs": [],
   "source": [
    "#Connecting to the webdriver\n",
    "driver=webdriver.Chrome('chromedriver.exe')"
   ]
  },
  {
   "cell_type": "code",
   "execution_count": 3,
   "id": "f482be64",
   "metadata": {
    "scrolled": true
   },
   "outputs": [],
   "source": [
    "url='https://www.naukri.com/'\n",
    "driver.get(url)"
   ]
  },
  {
   "cell_type": "code",
   "execution_count": 4,
   "id": "1e03cbc6",
   "metadata": {
    "scrolled": true
   },
   "outputs": [
    {
     "data": {
      "text/plain": [
       "<selenium.webdriver.remote.webelement.WebElement (session=\"037e77761b1434a165769a287f3cc348\", element=\"8b980e98-0260-49e8-9a65-2618f8c76c50\")>"
      ]
     },
     "execution_count": 4,
     "metadata": {},
     "output_type": "execute_result"
    }
   ],
   "source": [
    "#Finding web element for search job bar\n",
    "search_job=driver.find_element_by_class_name('suggestor-input')\n",
    "search_job"
   ]
  },
  {
   "cell_type": "code",
   "execution_count": 5,
   "id": "808f622d",
   "metadata": {
    "scrolled": true
   },
   "outputs": [],
   "source": [
    "#Write on search bar\n",
    "search_job.send_keys('Data Analyst')"
   ]
  },
  {
   "cell_type": "code",
   "execution_count": 6,
   "id": "2c48b2fa",
   "metadata": {
    "scrolled": true
   },
   "outputs": [
    {
     "data": {
      "text/plain": [
       "<selenium.webdriver.remote.webelement.WebElement (session=\"037e77761b1434a165769a287f3cc348\", element=\"b7c1f64b-4887-48be-82c3-e967e649bab1\")>"
      ]
     },
     "execution_count": 6,
     "metadata": {},
     "output_type": "execute_result"
    }
   ],
   "source": [
    "#Finding web element for search location bar\n",
    "search_loc=driver.find_element_by_xpath('/html/body/div/div[2]/div[3]/div/div/div[3]/div/div/div/input')\n",
    "search_loc"
   ]
  },
  {
   "cell_type": "code",
   "execution_count": 7,
   "id": "582eedca",
   "metadata": {
    "scrolled": true
   },
   "outputs": [],
   "source": [
    "search_loc.send_keys('Bangalore')"
   ]
  },
  {
   "cell_type": "code",
   "execution_count": 8,
   "id": "951016a7",
   "metadata": {
    "scrolled": true
   },
   "outputs": [
    {
     "data": {
      "text/plain": [
       "<selenium.webdriver.remote.webelement.WebElement (session=\"037e77761b1434a165769a287f3cc348\", element=\"b1efe562-f2bd-48da-ba20-b7505cbe94a6\")>"
      ]
     },
     "execution_count": 8,
     "metadata": {},
     "output_type": "execute_result"
    }
   ],
   "source": [
    "#Finding web element for search button\n",
    "search_btn=driver.find_element_by_xpath('/html/body/div/div[2]/div[3]/div/div/div[6]')\n",
    "search_btn"
   ]
  },
  {
   "cell_type": "code",
   "execution_count": 9,
   "id": "a2fd3986",
   "metadata": {
    "scrolled": true
   },
   "outputs": [],
   "source": [
    "#Clicking search button\n",
    "search_btn.click()"
   ]
  },
  {
   "cell_type": "markdown",
   "id": "1df1f51c",
   "metadata": {},
   "source": [
    "# Extracting Job Titles"
   ]
  },
  {
   "cell_type": "code",
   "execution_count": 11,
   "id": "08172c66",
   "metadata": {
    "scrolled": true
   },
   "outputs": [],
   "source": [
    "Titles=driver.find_elements_by_xpath('//a[@class=\"title fw500 ellipsis\"]')"
   ]
  },
  {
   "cell_type": "code",
   "execution_count": null,
   "id": "bf5adfa4",
   "metadata": {
    "scrolled": true
   },
   "outputs": [],
   "source": [
    "#Adding Job Title into a list\n",
    "Job_Names=[]\n",
    "for i in Titles:\n",
    "    Job_Names.append(i.text)\n",
    "len(Job_Names)\n",
    "Job_Names[:10]"
   ]
  },
  {
   "cell_type": "markdown",
   "id": "43d20677",
   "metadata": {},
   "source": [
    "# Extracting Job Locations"
   ]
  },
  {
   "cell_type": "code",
   "execution_count": null,
   "id": "36e91134",
   "metadata": {
    "scrolled": true
   },
   "outputs": [],
   "source": [
    "locations=driver.find_elements_by_xpath('//li[@class=\"fleft grey-text br2 placeHolderLi location\"]')\n",
    "len(locations)"
   ]
  },
  {
   "cell_type": "code",
   "execution_count": null,
   "id": "54383e3c",
   "metadata": {
    "scrolled": true
   },
   "outputs": [],
   "source": [
    "#Adding Job Locations into a list\n",
    "Job_Locations=[]\n",
    "for i in locations:\n",
    "    Job_Locations.append(i.text)\n",
    "len(Job_Locations)"
   ]
  },
  {
   "cell_type": "markdown",
   "id": "fc6afa85",
   "metadata": {},
   "source": [
    "# Extracting Company Names"
   ]
  },
  {
   "cell_type": "code",
   "execution_count": 21,
   "id": "baef0838",
   "metadata": {
    "scrolled": true
   },
   "outputs": [
    {
     "data": {
      "text/plain": [
       "20"
      ]
     },
     "execution_count": 21,
     "metadata": {},
     "output_type": "execute_result"
    }
   ],
   "source": [
    "companies=driver.find_elements_by_xpath('//a[@class=\"subTitle ellipsis fleft\"]')\n",
    "len(companies)"
   ]
  },
  {
   "cell_type": "code",
   "execution_count": 22,
   "id": "c15bbfcb",
   "metadata": {
    "scrolled": true
   },
   "outputs": [
    {
     "data": {
      "text/plain": [
       "20"
      ]
     },
     "execution_count": 22,
     "metadata": {},
     "output_type": "execute_result"
    }
   ],
   "source": [
    "#Adding Company Names into a list\n",
    "Company_Names=[]\n",
    "for i in companies:\n",
    "    Company_Names.append(i.text)\n",
    "len(Company_Names)"
   ]
  },
  {
   "cell_type": "markdown",
   "id": "7ac67a38",
   "metadata": {},
   "source": [
    "# Extracting Experience Required"
   ]
  },
  {
   "cell_type": "code",
   "execution_count": 26,
   "id": "82534613",
   "metadata": {
    "scrolled": true
   },
   "outputs": [
    {
     "data": {
      "text/plain": [
       "20"
      ]
     },
     "execution_count": 26,
     "metadata": {},
     "output_type": "execute_result"
    }
   ],
   "source": [
    "experience=driver.find_elements_by_xpath('//li[@class=\"fleft grey-text br2 placeHolderLi experience\"]')\n",
    "len(experience)"
   ]
  },
  {
   "cell_type": "code",
   "execution_count": 27,
   "id": "cd0957b1",
   "metadata": {
    "scrolled": true
   },
   "outputs": [
    {
     "data": {
      "text/plain": [
       "20"
      ]
     },
     "execution_count": 27,
     "metadata": {},
     "output_type": "execute_result"
    }
   ],
   "source": [
    "#Adding Experience into a list\n",
    "Experience_required=[]\n",
    "for i in experience:\n",
    "    Experience_required.append(i.text)\n",
    "len(Experience_required)"
   ]
  },
  {
   "cell_type": "markdown",
   "id": "06edcd21",
   "metadata": {},
   "source": [
    "# Creating Dataframe"
   ]
  },
  {
   "cell_type": "code",
   "execution_count": 28,
   "id": "bc656324",
   "metadata": {
    "scrolled": true
   },
   "outputs": [],
   "source": [
    "data={'Job Name':Job_Names,'Location':Job_Locations,'Company':Company_Names,'Experience Range':Experience_required}"
   ]
  },
  {
   "cell_type": "code",
   "execution_count": null,
   "id": "0c11fcd4",
   "metadata": {
    "scrolled": true
   },
   "outputs": [],
   "source": [
    "df_Jobs=pd.DataFrame(data)\n",
    "df_Jobs"
   ]
  },
  {
   "cell_type": "markdown",
   "id": "8584d916",
   "metadata": {},
   "source": [
    "# Q2.Data Scientists Job_Bangalore"
   ]
  },
  {
   "cell_type": "code",
   "execution_count": 31,
   "id": "73845d6f",
   "metadata": {
    "scrolled": true
   },
   "outputs": [],
   "source": [
    "#Connecting to the webdriver\n",
    "driver=webdriver.Chrome('chromedriver.exe')\n",
    "\n",
    "url='https://www.naukri.com/'\n",
    "driver.get(url)\n",
    "\n",
    "#Finding web element for search job bar\n",
    "search_job=driver.find_element_by_class_name('suggestor-input')\n",
    "search_job\n",
    "\n",
    "#Write on search bar\n",
    "search_job.send_keys('Data Scientist')"
   ]
  },
  {
   "cell_type": "code",
   "execution_count": 32,
   "id": "e5d92a59",
   "metadata": {
    "scrolled": true
   },
   "outputs": [],
   "source": [
    "#Finding web element for search location bar\n",
    "search_loc=driver.find_element_by_xpath('/html/body/div/div[2]/div[3]/div/div/div[3]/div/div/div/input')\n",
    "search_loc\n",
    "\n",
    "search_loc.send_keys('Bangalore')\n",
    "\n",
    "#Finding web element for search button\n",
    "search_btn=driver.find_element_by_xpath('/html/body/div/div[2]/div[3]/div/div/div[6]')\n",
    "\n",
    "#Clicking search button\n",
    "search_btn.click()"
   ]
  },
  {
   "cell_type": "code",
   "execution_count": 34,
   "id": "6bf16493",
   "metadata": {
    "scrolled": true
   },
   "outputs": [
    {
     "data": {
      "text/plain": [
       "20"
      ]
     },
     "execution_count": 34,
     "metadata": {},
     "output_type": "execute_result"
    }
   ],
   "source": [
    "# Extracting Job Titles\n",
    "Titles=driver.find_elements_by_xpath('//a[@class=\"title fw500 ellipsis\"]')\n",
    "\n",
    "#Adding Job Title into a list\n",
    "Job_Names=[]\n",
    "for i in Titles:\n",
    "    Job_Names.append(i.text)\n",
    "len(Job_Names)"
   ]
  },
  {
   "cell_type": "code",
   "execution_count": 35,
   "id": "b5cb6bbf",
   "metadata": {
    "scrolled": true
   },
   "outputs": [
    {
     "data": {
      "text/plain": [
       "20"
      ]
     },
     "execution_count": 35,
     "metadata": {},
     "output_type": "execute_result"
    }
   ],
   "source": [
    "#Extracting Job Locations\n",
    "locations=driver.find_elements_by_xpath('//li[@class=\"fleft grey-text br2 placeHolderLi location\"]')\n",
    "\n",
    "#Adding Job Locations into a list\n",
    "Job_Locations=[]\n",
    "for i in locations:\n",
    "    Job_Locations.append(i.text)\n",
    "len(Job_Locations)"
   ]
  },
  {
   "cell_type": "code",
   "execution_count": 36,
   "id": "c5523a9f",
   "metadata": {
    "scrolled": true
   },
   "outputs": [
    {
     "data": {
      "text/plain": [
       "20"
      ]
     },
     "execution_count": 36,
     "metadata": {},
     "output_type": "execute_result"
    }
   ],
   "source": [
    "#Extracting Company Names\n",
    "companies=driver.find_elements_by_xpath('//a[@class=\"subTitle ellipsis fleft\"]')\n",
    "\n",
    "#Adding Company Names into a list\n",
    "Company_Names=[]\n",
    "for i in companies:\n",
    "    Company_Names.append(i.text)\n",
    "len(Company_Names)"
   ]
  },
  {
   "cell_type": "code",
   "execution_count": 37,
   "id": "ca6e4512",
   "metadata": {
    "scrolled": true
   },
   "outputs": [
    {
     "data": {
      "text/plain": [
       "20"
      ]
     },
     "execution_count": 37,
     "metadata": {},
     "output_type": "execute_result"
    }
   ],
   "source": [
    "#Extracting Experience Required\n",
    "experience=driver.find_elements_by_xpath('//li[@class=\"fleft grey-text br2 placeHolderLi experience\"]')\n",
    "\n",
    "#Adding Experience into a list\n",
    "Experience_required=[]\n",
    "for i in experience:\n",
    "    Experience_required.append(i.text)\n",
    "len(Experience_required)"
   ]
  },
  {
   "cell_type": "code",
   "execution_count": null,
   "id": "b1d56511",
   "metadata": {
    "scrolled": true
   },
   "outputs": [],
   "source": [
    "#Creatig DataFrame with scraped data\n",
    "\n",
    "data_2={'Job Name':Job_Names,'Location':Job_Locations,'Company':Company_Names,'Experience Range':Experience_required}\n",
    "\n",
    "df_Data_Scientists=pd.DataFrame(data_2)\n",
    "df_Data_Scientists"
   ]
  },
  {
   "cell_type": "markdown",
   "id": "83979d08",
   "metadata": {},
   "source": [
    "# Q3.Data Scientists Job_using Filters"
   ]
  },
  {
   "cell_type": "code",
   "execution_count": 39,
   "id": "3f4b53e5",
   "metadata": {
    "scrolled": true
   },
   "outputs": [],
   "source": [
    "#Connecting to the webdriver\n",
    "driver=webdriver.Chrome('chromedriver.exe')\n",
    "\n",
    "url='https://www.naukri.com/'\n",
    "driver.get(url)\n",
    "\n",
    "#Finding web element for search job bar\n",
    "search_job=driver.find_element_by_class_name('suggestor-input')\n",
    "search_job\n",
    "\n",
    "#Write on search bar\n",
    "search_job.send_keys('Data Scientist')"
   ]
  },
  {
   "cell_type": "code",
   "execution_count": 40,
   "id": "9c55f81c",
   "metadata": {
    "scrolled": true
   },
   "outputs": [],
   "source": [
    "#Finding web element for search button\n",
    "search_btn=driver.find_element_by_xpath('/html/body/div/div[2]/div[3]/div/div/div[6]')\n",
    "\n",
    "#Clicking search button\n",
    "search_btn.click()"
   ]
  },
  {
   "cell_type": "code",
   "execution_count": 43,
   "id": "50455a94",
   "metadata": {
    "scrolled": true
   },
   "outputs": [],
   "source": [
    "#Finding web element for location filter\n",
    "loc_filter=driver.find_element_by_xpath('/html/body/div[1]/div[3]/div[2]/section[1]/div[2]/div[1]/div[2]/div[3]/label/i')\n",
    "loc_filter\n",
    "\n",
    "#Selecting location filter\n",
    "loc_filter.click()"
   ]
  },
  {
   "cell_type": "code",
   "execution_count": 44,
   "id": "bfae7d4c",
   "metadata": {
    "scrolled": true
   },
   "outputs": [],
   "source": [
    "#Finding web element for Salary filter\n",
    "slry_fltr=driver.find_element_by_xpath('/html/body/div[1]/div[3]/div[2]/section[1]/div[2]/div[4]/div[2]/div[2]/label/i')\n",
    "\n",
    "#Selecting Salary filter\n",
    "slry_fltr.click()"
   ]
  },
  {
   "cell_type": "code",
   "execution_count": 45,
   "id": "984c4627",
   "metadata": {
    "scrolled": true
   },
   "outputs": [
    {
     "data": {
      "text/plain": [
       "20"
      ]
     },
     "execution_count": 45,
     "metadata": {},
     "output_type": "execute_result"
    }
   ],
   "source": [
    "# Extracting Job Titles\n",
    "Titles=driver.find_elements_by_xpath('//a[@class=\"title fw500 ellipsis\"]')\n",
    "\n",
    "#Adding Job Title into a list\n",
    "Job_Names=[]\n",
    "for i in Titles:\n",
    "    Job_Names.append(i.text)\n",
    "len(Job_Names)"
   ]
  },
  {
   "cell_type": "code",
   "execution_count": 46,
   "id": "9319da0a",
   "metadata": {
    "scrolled": true
   },
   "outputs": [
    {
     "data": {
      "text/plain": [
       "20"
      ]
     },
     "execution_count": 46,
     "metadata": {},
     "output_type": "execute_result"
    }
   ],
   "source": [
    "#Extracting Job Locations\n",
    "locations=driver.find_elements_by_xpath('//li[@class=\"fleft grey-text br2 placeHolderLi location\"]')\n",
    "\n",
    "#Adding Job Locations into a list\n",
    "Job_Locations=[]\n",
    "for i in locations:\n",
    "    Job_Locations.append(i.text)\n",
    "len(Job_Locations)"
   ]
  },
  {
   "cell_type": "code",
   "execution_count": 47,
   "id": "a6294a1a",
   "metadata": {
    "scrolled": true
   },
   "outputs": [
    {
     "data": {
      "text/plain": [
       "20"
      ]
     },
     "execution_count": 47,
     "metadata": {},
     "output_type": "execute_result"
    }
   ],
   "source": [
    "#Extracting Company Names\n",
    "companies=driver.find_elements_by_xpath('//a[@class=\"subTitle ellipsis fleft\"]')\n",
    "\n",
    "#Adding Company Names into a list\n",
    "Company_Names=[]\n",
    "for i in companies:\n",
    "    Company_Names.append(i.text)\n",
    "len(Company_Names)"
   ]
  },
  {
   "cell_type": "code",
   "execution_count": 48,
   "id": "37deb0b8",
   "metadata": {
    "scrolled": true
   },
   "outputs": [
    {
     "data": {
      "text/plain": [
       "20"
      ]
     },
     "execution_count": 48,
     "metadata": {},
     "output_type": "execute_result"
    }
   ],
   "source": [
    "#Extracting Experience Required\n",
    "experience=driver.find_elements_by_xpath('//li[@class=\"fleft grey-text br2 placeHolderLi experience\"]')\n",
    "\n",
    "#Adding Experience into a list\n",
    "Experience_required=[]\n",
    "for i in experience:\n",
    "    Experience_required.append(i.text)\n",
    "len(Experience_required)"
   ]
  },
  {
   "cell_type": "code",
   "execution_count": null,
   "id": "8021e285",
   "metadata": {
    "scrolled": true
   },
   "outputs": [],
   "source": [
    "#Creatig DataFrame with scraped data\n",
    "\n",
    "data_2={'Job Name':Job_Names,'Location':Job_Locations,'Company':Company_Names,'Experience Range':Experience_required}\n",
    "\n",
    "df_Data_Scientists=pd.DataFrame(data_2)\n",
    "df_Data_Scientists"
   ]
  },
  {
   "cell_type": "markdown",
   "id": "f9bc7f98",
   "metadata": {},
   "source": [
    "# Q4.Sunglasses"
   ]
  },
  {
   "cell_type": "code",
   "execution_count": 2,
   "id": "452b96ea",
   "metadata": {
    "scrolled": true
   },
   "outputs": [],
   "source": [
    "#Lets import all required libraries\n",
    "import selenium\n",
    "from selenium import webdriver\n",
    "import pandas as pd\n",
    "import warnings\n",
    "warnings.filterwarnings(\"ignore\")"
   ]
  },
  {
   "cell_type": "code",
   "execution_count": 36,
   "id": "ad85e4c4",
   "metadata": {
    "scrolled": true
   },
   "outputs": [],
   "source": [
    "#Connecting to the webdriver\n",
    "driver=webdriver.Chrome('chromedriver.exe')\n",
    "\n",
    "url='https://www.flipkart.com/'\n",
    "driver.get(url)"
   ]
  },
  {
   "cell_type": "code",
   "execution_count": 37,
   "id": "db17e264",
   "metadata": {
    "scrolled": true
   },
   "outputs": [],
   "source": [
    "#Finding web element for close login button\n",
    "close_login=driver.find_element_by_xpath('//button[@class=\"_2KpZ6l _2doB4z\"]')\n",
    "\n",
    "#Clicking close button\n",
    "close_login.click()"
   ]
  },
  {
   "cell_type": "code",
   "execution_count": 38,
   "id": "7ae28b0c",
   "metadata": {
    "scrolled": true
   },
   "outputs": [],
   "source": [
    "#Finding web element for search bar\n",
    "search=driver.find_element_by_class_name(\"_3704LK\")\n",
    "search\n",
    "\n",
    "#Write on search bar\n",
    "search.send_keys('sunglasses')"
   ]
  },
  {
   "cell_type": "code",
   "execution_count": 39,
   "id": "0a0c9f5c",
   "metadata": {
    "scrolled": true
   },
   "outputs": [],
   "source": [
    "#Finding web element for search button\n",
    "search_btn=driver.find_element_by_xpath('/html/body/div[1]/div/div[1]/div[1]/div[2]/div[2]/form/div/button')\n",
    "\n",
    "#Clicking search button\n",
    "search_btn.click()"
   ]
  },
  {
   "cell_type": "code",
   "execution_count": 40,
   "id": "53384dfc",
   "metadata": {
    "scrolled": true
   },
   "outputs": [
    {
     "data": {
      "text/plain": [
       "40"
      ]
     },
     "execution_count": 40,
     "metadata": {},
     "output_type": "execute_result"
    }
   ],
   "source": [
    "#Extracting Brand Names(1) from Page_1\n",
    "Names1=driver.find_elements_by_xpath('//div[@class=\"_2WkVRV\"]')\n",
    "\n",
    "#Adding Brand Names from Page_1 into a list\n",
    "Brand_Names=[]\n",
    "for i in Names1:\n",
    "    Brand_Names.append(i.text)\n",
    "len(Brand_Names)"
   ]
  },
  {
   "cell_type": "code",
   "execution_count": 43,
   "id": "66cea8ed",
   "metadata": {
    "scrolled": true
   },
   "outputs": [
    {
     "data": {
      "text/plain": [
       "40"
      ]
     },
     "execution_count": 43,
     "metadata": {},
     "output_type": "execute_result"
    }
   ],
   "source": [
    "#Extracting Product Descriptions from Page_1\n",
    "Descriptions1=driver.find_elements_by_xpath('//a[@class=\"IRpwTa\"]')\n",
    "\n",
    "#Adding Product Descriptions from Page_1 into a list\n",
    "Product_Desc=[]\n",
    "for i in Descriptions1:\n",
    "    Product_Desc.append(i.text)\n",
    "len(Product_Desc)"
   ]
  },
  {
   "cell_type": "code",
   "execution_count": 44,
   "id": "538bf462",
   "metadata": {
    "scrolled": true
   },
   "outputs": [
    {
     "data": {
      "text/plain": [
       "40"
      ]
     },
     "execution_count": 44,
     "metadata": {},
     "output_type": "execute_result"
    }
   ],
   "source": [
    "#Extracting Prices from Page_1\n",
    "Prices1=driver.find_elements_by_xpath('//div[@class=\"_30jeq3\"]')\n",
    "\n",
    "#Adding Extracting Prices from Page_1 into a list\n",
    "Product_Price=[]\n",
    "for i in Prices1:\n",
    "    Product_Price.append(i.text)\n",
    "len(Product_Price)"
   ]
  },
  {
   "cell_type": "code",
   "execution_count": 45,
   "id": "770d304a",
   "metadata": {
    "scrolled": true
   },
   "outputs": [
    {
     "data": {
      "text/plain": [
       "40"
      ]
     },
     "execution_count": 45,
     "metadata": {},
     "output_type": "execute_result"
    }
   ],
   "source": [
    "#Extracting Discounts from Page_1\n",
    "Discounts1=driver.find_elements_by_xpath('//div[@class=\"_3Ay6Sb\"]')\n",
    "\n",
    "#Adding Discounts from Page_1 into a list\n",
    "Product_Dscnt=[]\n",
    "for i in Discounts1:\n",
    "    Product_Dscnt.append(i.text)\n",
    "len(Product_Dscnt)"
   ]
  },
  {
   "cell_type": "code",
   "execution_count": 46,
   "id": "5e86953e",
   "metadata": {
    "scrolled": true
   },
   "outputs": [],
   "source": [
    "#Finding web element for next page_2 button\n",
    "next_page=driver.find_element_by_xpath('//a[@class=\"_1LKTO3\"]')\n",
    "\n",
    "#Clicking close button\n",
    "next_page.click()"
   ]
  },
  {
   "cell_type": "code",
   "execution_count": 47,
   "id": "92295027",
   "metadata": {
    "scrolled": true
   },
   "outputs": [
    {
     "data": {
      "text/plain": [
       "80"
      ]
     },
     "execution_count": 47,
     "metadata": {},
     "output_type": "execute_result"
    }
   ],
   "source": [
    "#Extracting Brand Names(1) from Page_2\n",
    "Names2=driver.find_elements_by_xpath('//div[@class=\"_2WkVRV\"]')\n",
    "\n",
    "#Adding Brand Names from Page_2 into an already existing list\n",
    "for i in Names2:\n",
    "    Brand_Names.append(i.text)\n",
    "len(Brand_Names)"
   ]
  },
  {
   "cell_type": "code",
   "execution_count": 48,
   "id": "d2943fcd",
   "metadata": {
    "scrolled": true
   },
   "outputs": [
    {
     "data": {
      "text/plain": [
       "80"
      ]
     },
     "execution_count": 48,
     "metadata": {},
     "output_type": "execute_result"
    }
   ],
   "source": [
    "#Extracting Product Descriptions from Page_2\n",
    "Descriptions2=driver.find_elements_by_xpath('//a[@class=\"IRpwTa\"]')\n",
    "\n",
    "#Adding Product Descriptions from Page_2 into an already existing list\n",
    "for i in Descriptions2:\n",
    "    Product_Desc.append(i.text)\n",
    "len(Product_Desc)"
   ]
  },
  {
   "cell_type": "code",
   "execution_count": 49,
   "id": "0f62e2f7",
   "metadata": {
    "scrolled": true
   },
   "outputs": [
    {
     "data": {
      "text/plain": [
       "80"
      ]
     },
     "execution_count": 49,
     "metadata": {},
     "output_type": "execute_result"
    }
   ],
   "source": [
    "#Extracting Prices from Page_2\n",
    "Prices2=driver.find_elements_by_xpath('//div[@class=\"_30jeq3\"]')\n",
    "\n",
    "#Adding Extracting Prices from Page_2 into a list\n",
    "for i in Prices2:\n",
    "    Product_Price.append(i.text)\n",
    "len(Product_Price)"
   ]
  },
  {
   "cell_type": "code",
   "execution_count": 50,
   "id": "5002a285",
   "metadata": {
    "scrolled": true
   },
   "outputs": [
    {
     "data": {
      "text/plain": [
       "80"
      ]
     },
     "execution_count": 50,
     "metadata": {},
     "output_type": "execute_result"
    }
   ],
   "source": [
    "#Extracting Discounts from Page_2\n",
    "Discounts2=driver.find_elements_by_xpath('//div[@class=\"_3Ay6Sb\"]')\n",
    "\n",
    "#Adding Discounts from Page_2 into a list\n",
    "for i in Discounts2:\n",
    "    Product_Dscnt.append(i.text)\n",
    "len(Product_Dscnt)"
   ]
  },
  {
   "cell_type": "code",
   "execution_count": 51,
   "id": "c2ed4b17",
   "metadata": {
    "scrolled": true
   },
   "outputs": [],
   "source": [
    "#Finding web element for page_3 button\n",
    "page3=driver.find_element_by_xpath('/html/body/div[1]/div/div[3]/div[1]/div[2]/div[12]/div/div/nav/a[4]')\n",
    "\n",
    "#Clicking close button\n",
    "page3.click()"
   ]
  },
  {
   "cell_type": "code",
   "execution_count": 52,
   "id": "975f9edf",
   "metadata": {
    "scrolled": true
   },
   "outputs": [
    {
     "data": {
      "text/plain": [
       "100"
      ]
     },
     "execution_count": 52,
     "metadata": {},
     "output_type": "execute_result"
    }
   ],
   "source": [
    "#Extracting Brand Names(20) from Page_3\n",
    "Names3=driver.find_elements_by_xpath('//div[@class=\"_2WkVRV\"]')\n",
    "\n",
    "#Adding Brand Names(20) from Page_3 into an already existing list\n",
    "for i in Names3[0:20]:\n",
    "    Brand_Names.append(i.text)\n",
    "len(Brand_Names)"
   ]
  },
  {
   "cell_type": "code",
   "execution_count": 59,
   "id": "04fca2a9",
   "metadata": {
    "scrolled": true
   },
   "outputs": [
    {
     "data": {
      "text/plain": [
       "100"
      ]
     },
     "execution_count": 59,
     "metadata": {},
     "output_type": "execute_result"
    }
   ],
   "source": [
    "#Extracting Product Descriptions(20) from Page_3\n",
    "Descriptions3=driver.find_elements_by_xpath('//a[@class=\"IRpwTa _2-ICcC\" or @class=\"IRpwTa\"]')\n",
    "\n",
    "#Adding Product Descriptions from Page_2 into an already existing list\n",
    "for i in Descriptions3[0:20]:\n",
    "    Product_Desc.append(i.text)\n",
    "len(Product_Desc)"
   ]
  },
  {
   "cell_type": "code",
   "execution_count": 60,
   "id": "0f786cfd",
   "metadata": {
    "scrolled": true
   },
   "outputs": [
    {
     "data": {
      "text/plain": [
       "100"
      ]
     },
     "execution_count": 60,
     "metadata": {},
     "output_type": "execute_result"
    }
   ],
   "source": [
    "#Extracting Prices(20) from Page_3\n",
    "Prices3=driver.find_elements_by_xpath('//div[@class=\"_30jeq3\"]')\n",
    "\n",
    "#Adding Extracting Prices(20) from Page_3 into a list\n",
    "for i in Prices3[0:20]:\n",
    "    Product_Price.append(i.text)\n",
    "len(Product_Price)"
   ]
  },
  {
   "cell_type": "code",
   "execution_count": 61,
   "id": "0d6deb93",
   "metadata": {
    "scrolled": true
   },
   "outputs": [
    {
     "data": {
      "text/plain": [
       "100"
      ]
     },
     "execution_count": 61,
     "metadata": {},
     "output_type": "execute_result"
    }
   ],
   "source": [
    "#Extracting Discounts(20) from Page_3\n",
    "Discounts3=driver.find_elements_by_xpath('//div[@class=\"_3Ay6Sb\"]')\n",
    "\n",
    "#Adding Discounts(20) from Page_3 into a list\n",
    "for i in Discounts3[0:20]:\n",
    "    Product_Dscnt.append(i.text)\n",
    "len(Product_Dscnt)"
   ]
  },
  {
   "cell_type": "code",
   "execution_count": null,
   "id": "6b1143ea",
   "metadata": {
    "scrolled": true
   },
   "outputs": [],
   "source": [
    "#Creatig DataFrame for sunglasses with scraped data\n",
    "\n",
    "data_sunglasses={'Brand Name':Brand_Names,'Description':Product_Desc,'Price':Product_Price,'Discount':Product_Dscnt}\n",
    "\n",
    "df_Data_Sunglasses=pd.DataFrame(data_sunglasses)\n",
    "df_Data_Sunglasses"
   ]
  },
  {
   "cell_type": "markdown",
   "id": "ba0af9e3",
   "metadata": {},
   "source": [
    "# Q5.Iphone 11 review"
   ]
  },
  {
   "cell_type": "code",
   "execution_count": 1,
   "id": "79e012af",
   "metadata": {
    "scrolled": true
   },
   "outputs": [],
   "source": [
    "#Lets import all required libraries\n",
    "import selenium\n",
    "from selenium import webdriver\n",
    "import pandas as pd\n",
    "import warnings\n",
    "warnings.filterwarnings(\"ignore\")"
   ]
  },
  {
   "cell_type": "code",
   "execution_count": 2,
   "id": "da451f29",
   "metadata": {
    "scrolled": true
   },
   "outputs": [],
   "source": [
    "#Connecting to the webdriver\n",
    "driver=webdriver.Chrome('chromedriver.exe')\n",
    "\n",
    "url='https://www.flipkart.com/apple-iphone-11-black-64-gb-includes-earpods-power-adapter/product-reviews/itm0f37c2240b217?pid=MOBFKCTSVZAXUHGR&lid=LSTMOBFKCTSVZAXUHGREPBFGI&marketplace=FLIPKART'\n",
    "driver.get(url)"
   ]
  },
  {
   "cell_type": "code",
   "execution_count": 3,
   "id": "4cf495b2",
   "metadata": {
    "scrolled": true
   },
   "outputs": [],
   "source": [
    "#maximizing the window\n",
    "driver.maximize_window()"
   ]
  },
  {
   "cell_type": "code",
   "execution_count": 4,
   "id": "16601496",
   "metadata": {
    "scrolled": true
   },
   "outputs": [
    {
     "data": {
      "text/plain": [
       "10"
      ]
     },
     "execution_count": 4,
     "metadata": {},
     "output_type": "execute_result"
    }
   ],
   "source": [
    "#Finding web element for Ratings_Page1\n",
    "elem_rating=driver.find_elements_by_xpath('//div[@class=\"_3LWZlK _1BLPMq\"]')\n",
    "\n",
    "#Adding Ratings from Page_1 into a list\n",
    "Ratings=[]\n",
    "for i in elem_rating:\n",
    "    Ratings.append(i.text)\n",
    "len(Ratings)"
   ]
  },
  {
   "cell_type": "code",
   "execution_count": 5,
   "id": "0aa71e7d",
   "metadata": {
    "scrolled": true
   },
   "outputs": [
    {
     "data": {
      "text/plain": [
       "10"
      ]
     },
     "execution_count": 5,
     "metadata": {},
     "output_type": "execute_result"
    }
   ],
   "source": [
    "#Finding web element for Review Summary_Page1\n",
    "elem_review=driver.find_elements_by_xpath('//p[@class=\"_2-N8zT\"]')\n",
    "\n",
    "#Adding Ratings from Page_1 into a list\n",
    "Review_Summary=[]\n",
    "for i in elem_review:\n",
    "    Review_Summary.append(i.text)\n",
    "len(Review_Summary)"
   ]
  },
  {
   "cell_type": "code",
   "execution_count": 6,
   "id": "1a0217ef",
   "metadata": {
    "scrolled": true
   },
   "outputs": [
    {
     "data": {
      "text/plain": [
       "10"
      ]
     },
     "execution_count": 6,
     "metadata": {},
     "output_type": "execute_result"
    }
   ],
   "source": [
    "#Finding web element for Full Review _Page1\n",
    "elem_full_review=driver.find_elements_by_xpath('//div[@class=\"t-ZTKy\"]')\n",
    "\n",
    "#Adding Ratings from Page_1 into a list\n",
    "Full_Review=[]\n",
    "for i in elem_full_review:\n",
    "    Full_Review.append(i.text)\n",
    "len(Full_Review)"
   ]
  },
  {
   "cell_type": "code",
   "execution_count": 7,
   "id": "abaf1b7d",
   "metadata": {
    "scrolled": true
   },
   "outputs": [],
   "source": [
    "#Moving to the 2nd page for extraction\n",
    "next_page=driver.find_element_by_xpath('//a[@class=\"ge-49M\"]')\n",
    "\n",
    "next_page.click()"
   ]
  },
  {
   "cell_type": "code",
   "execution_count": 8,
   "id": "7cce3a39",
   "metadata": {
    "scrolled": true
   },
   "outputs": [
    {
     "data": {
      "text/plain": [
       "20"
      ]
     },
     "execution_count": 8,
     "metadata": {},
     "output_type": "execute_result"
    }
   ],
   "source": [
    "#Finding web element for Ratings_Page2\n",
    "elem_rating2=driver.find_elements_by_xpath('//div[@class=\"_3LWZlK _1BLPMq\"]')\n",
    "\n",
    "#Adding Ratings from Page_2 into already existing list\n",
    "for i in elem_rating2:\n",
    "    Ratings.append(i.text)\n",
    "len(Ratings)"
   ]
  },
  {
   "cell_type": "code",
   "execution_count": 9,
   "id": "1819901f",
   "metadata": {
    "scrolled": true
   },
   "outputs": [
    {
     "data": {
      "text/plain": [
       "20"
      ]
     },
     "execution_count": 9,
     "metadata": {},
     "output_type": "execute_result"
    }
   ],
   "source": [
    "#Finding web element for Review Summary_Page2\n",
    "elem_review2=driver.find_elements_by_xpath('//p[@class=\"_2-N8zT\"]')\n",
    "\n",
    "#Adding Ratings from Page_2 into already existing list\n",
    "for i in elem_review2:\n",
    "    Review_Summary.append(i.text)\n",
    "len(Review_Summary)"
   ]
  },
  {
   "cell_type": "code",
   "execution_count": 11,
   "id": "d058a82a",
   "metadata": {
    "scrolled": true
   },
   "outputs": [
    {
     "data": {
      "text/plain": [
       "20"
      ]
     },
     "execution_count": 11,
     "metadata": {},
     "output_type": "execute_result"
    }
   ],
   "source": [
    "#Finding web element for Full Review _Page2\n",
    "elem_full_review2=driver.find_elements_by_xpath('//div[@class=\"t-ZTKy\"]')\n",
    "\n",
    "#Adding Ratings from Page_2 into already existing list\n",
    "for i in elem_full_review2:\n",
    "    Full_Review.append(i.text)\n",
    "len(Full_Review)"
   ]
  },
  {
   "cell_type": "code",
   "execution_count": 16,
   "id": "06764f89",
   "metadata": {
    "scrolled": true
   },
   "outputs": [],
   "source": [
    "#Moving to the 3rd page for extraction\n",
    "next_page3=driver.find_element_by_xpath('//*[@id=\"container\"]/div/div[3]/div/div/div[2]/div[13]/div/div/nav/a[4]')\n",
    "\n",
    "next_page3.click()"
   ]
  },
  {
   "cell_type": "code",
   "execution_count": 21,
   "id": "7b746fdf",
   "metadata": {
    "scrolled": true
   },
   "outputs": [],
   "source": [
    "#Finding web element for Ratings_Page3\n",
    "elem_rating3=driver.find_elements_by_xpath('//div[@class=\"_3LWZlK _1BLPMq\"]')\n",
    "\n",
    "#Adding Ratings from Page_3 into already existing list\n",
    "for i in elem_rating3:\n",
    "    Ratings.append(i.text)\n",
    "\n",
    "#Finding web element for Review Summary_Page3\n",
    "elem_review3=driver.find_elements_by_xpath('//p[@class=\"_2-N8zT\"]')\n",
    "\n",
    "#Adding Ratings from Page_3 into already existing list\n",
    "for i in elem_review3:\n",
    "    Review_Summary.append(i.text)\n",
    "\n",
    "#Finding web element for Full Review _Page3\n",
    "elem_full_review3=driver.find_elements_by_xpath('//div[@class=\"t-ZTKy\"]')\n",
    "\n",
    "#Adding Ratings from Page_3 into already existing list\n",
    "for i in elem_full_review3:\n",
    "    Full_Review.append(i.text)"
   ]
  },
  {
   "cell_type": "code",
   "execution_count": 25,
   "id": "4e4e28c4",
   "metadata": {
    "scrolled": true
   },
   "outputs": [],
   "source": [
    "#Moving to the 4th page for extraction\n",
    "next_page4=driver.find_element_by_xpath('//*[@id=\"container\"]/div/div[3]/div/div/div[2]/div[13]/div/div/nav/a[5]')\n",
    "\n",
    "next_page4.click()"
   ]
  },
  {
   "cell_type": "code",
   "execution_count": 31,
   "id": "00090a8d",
   "metadata": {
    "scrolled": true
   },
   "outputs": [],
   "source": [
    "#Finding web element for Ratings_Page4\n",
    "elem_rating4=driver.find_elements_by_xpath('//div[@class=\"_3LWZlK _1BLPMq\" or @class=\"_3LWZlK _1rdVr6 _1BLPMq\"]')\n",
    "\n",
    "#Adding Ratings from Page_4 into already existing list\n",
    "for i in elem_rating4:\n",
    "    Ratings.append(i.text)\n",
    "\n",
    "#Finding web element for Review Summary_Page4\n",
    "elem_review4=driver.find_elements_by_xpath('//p[@class=\"_2-N8zT\"]')\n",
    "\n",
    "#Adding Ratings from Page_4 into already existing list\n",
    "for i in elem_review4:\n",
    "    Review_Summary.append(i.text)\n",
    "\n",
    "#Finding web element for Full Review _Page4\n",
    "elem_full_review4=driver.find_elements_by_xpath('//div[@class=\"t-ZTKy\"]')\n",
    "\n",
    "#Adding Ratings from Page_4 into already existing list\n",
    "for i in elem_full_review4:\n",
    "    Full_Review.append(i.text)"
   ]
  },
  {
   "cell_type": "code",
   "execution_count": null,
   "id": "f31f2414",
   "metadata": {
    "scrolled": true
   },
   "outputs": [],
   "source": [
    "#Moving to the 5th page for extraction\n",
    "next_page5=driver.find_element_by_xpath('//*[@id=\"container\"]/div/div[3]/div/div/div[2]/div[13]/div/div/nav/a[5]')\n",
    "\n",
    "next_page5.click()"
   ]
  },
  {
   "cell_type": "markdown",
   "id": "4ab9d27e",
   "metadata": {},
   "source": [
    "# Q6.Sneakers"
   ]
  },
  {
   "cell_type": "code",
   "execution_count": 1,
   "id": "9b136a39",
   "metadata": {
    "scrolled": true
   },
   "outputs": [],
   "source": [
    "#Lets import all required libraries\n",
    "import selenium\n",
    "import time\n",
    "from selenium import webdriver\n",
    "import pandas as pd\n",
    "import warnings\n",
    "warnings.filterwarnings(\"ignore\")"
   ]
  },
  {
   "cell_type": "code",
   "execution_count": 17,
   "id": "0c3c7493",
   "metadata": {
    "scrolled": true
   },
   "outputs": [],
   "source": [
    "#Connecting to the webdriver\n",
    "driver=webdriver.Chrome('chromedriver.exe')\n",
    "\n",
    "url='https://www.flipkart.com/'\n",
    "driver.get(url)\n",
    "\n",
    "#Finding web element for close login button\n",
    "close_login=driver.find_element_by_xpath('//button[@class=\"_2KpZ6l _2doB4z\"]')\n",
    "\n",
    "#Clicking close button\n",
    "close_login.click()\n",
    "\n",
    "#maximizing the window\n",
    "driver.maximize_window()"
   ]
  },
  {
   "cell_type": "code",
   "execution_count": 18,
   "id": "8c3e226f",
   "metadata": {
    "scrolled": true
   },
   "outputs": [],
   "source": [
    "#Finding web element for search bar\n",
    "search=driver.find_element_by_class_name(\"_3704LK\")\n",
    "search\n",
    "\n",
    "#Write on search bar\n",
    "search.send_keys('sneakers')\n",
    "\n",
    "#Finding web element for search button\n",
    "search_btn=driver.find_element_by_xpath('/html/body/div[1]/div/div[1]/div[1]/div[2]/div[2]/form/div/button')\n",
    "\n",
    "#Clicking search button\n",
    "search_btn.click()"
   ]
  },
  {
   "cell_type": "code",
   "execution_count": 19,
   "id": "d1a63203",
   "metadata": {
    "scrolled": true
   },
   "outputs": [],
   "source": [
    "Brands = []\n",
    "Descriptions = []\n",
    "Prices = []\n",
    "Discounts = []\n",
    "\n",
    "time.sleep(10)\n",
    "\n",
    "#scrapping the required data:\n",
    "start=0\n",
    "end=3\n",
    "for page in range(start,end):\n",
    "    for i in driver.find_elements_by_class_name(\"_2WkVRV\"):    #scraping data for brands\n",
    "        Brands.append(i.text)\n",
    "       \n",
    "    for i in driver.find_elements_by_class_name(\"IRpwTa\"):    #scraping data for descriptions\n",
    "        Descriptions.append(i.text)\n",
    "        \n",
    "    for i in driver.find_elements_by_class_name(\"_30jeq3\"):    #scraping data for prices\n",
    "        Prices.append(i.text)\n",
    "       \n",
    "    for i in driver.find_elements_by_class_name(\"_3Ay6Sb\"):    #scraping data for discounts\n",
    "        Discounts.append(i.text)\n",
    "            \n",
    "    nxt_button=driver.find_elements_by_xpath(\"//a[@class='_1LKTO3']\")\n",
    "    try:\n",
    "        driver.get(nxt_button[1].get_attribute('href'))\n",
    "    except:\n",
    "        driver.get(nxt_button[0].get_attribute('href'))\n"
   ]
  },
  {
   "cell_type": "code",
   "execution_count": 20,
   "id": "09510b72",
   "metadata": {
    "scrolled": true
   },
   "outputs": [
    {
     "data": {
      "text/plain": [
       "(120, 120, 135, 135)"
      ]
     },
     "execution_count": 20,
     "metadata": {},
     "output_type": "execute_result"
    }
   ],
   "source": [
    "len(Brands),len(Descriptions),len(Prices),len(Discounts)"
   ]
  },
  {
   "cell_type": "code",
   "execution_count": 21,
   "id": "dcc9f31f",
   "metadata": {
    "scrolled": true
   },
   "outputs": [],
   "source": [
    "#creating dataframe\n",
    "df=pd.DataFrame({'Brand':Brands[:100],\n",
    "                'Description':Descriptions[:100],\n",
    "                'Price':Prices[:100],\n",
    "                'Discount %':Discounts[:100]})"
   ]
  },
  {
   "cell_type": "markdown",
   "id": "2012bc64",
   "metadata": {},
   "source": [
    "# Q7.Myntra Shoes"
   ]
  },
  {
   "cell_type": "code",
   "execution_count": 2,
   "id": "b5c17875",
   "metadata": {
    "scrolled": true
   },
   "outputs": [],
   "source": [
    "#Connecting to the webdriver\n",
    "driver=webdriver.Chrome('chromedriver.exe')\n",
    "\n",
    "url='https://www.myntra.com/shoes%22'\n",
    "driver.get(url)\n",
    "\n",
    "time.sleep(5)\n",
    "\n",
    "#maximizing the window\n",
    "driver.maximize_window()"
   ]
  },
  {
   "cell_type": "code",
   "execution_count": 3,
   "id": "de25d20d",
   "metadata": {
    "scrolled": true
   },
   "outputs": [],
   "source": [
    "#Applying price filter\n",
    "price_filter=driver.find_element_by_xpath('//ul[@class=\"price-list\"]/li[2]')\n",
    "price_filter.click()"
   ]
  },
  {
   "cell_type": "code",
   "execution_count": 4,
   "id": "c52b8d02",
   "metadata": {
    "scrolled": true
   },
   "outputs": [],
   "source": [
    "#Applying color filter\n",
    "color_filter=driver.find_element_by_xpath('/html/body/div[2]/div/div[1]/main/div[3]/div[1]/section/div/div[6]/ul/li[1]')\n",
    "color_filter.click()"
   ]
  },
  {
   "cell_type": "code",
   "execution_count": 6,
   "id": "55f44c9d",
   "metadata": {
    "scrolled": true
   },
   "outputs": [],
   "source": [
    "Brands_1 = []\n",
    "Blank_desc=[]\n",
    "Descriptions_1 = []\n",
    "Prices_1 = []\n",
    "time.sleep(10)\n",
    "#scrapping the required data:\n",
    "start=0\n",
    "end=2\n",
    "for page in range(start,end):\n",
    "    for i in driver.find_elements_by_xpath('//div[@class=\"product-productMetaInfo\"]/h3'):    #scraping data for brands\n",
    "        Brands_1.append(i.text)\n",
    "       \n",
    "    for i in driver.find_elements_by_xpath('//div[@class=\"product-productMetaInfo\"]/h4'):    #scraping data for descriptions\n",
    "        Blank_desc.append(i.text)\n",
    "    for j in range(0,len(Blank_desc),2):\n",
    "        Descriptions_1.append(Blank_desc[j])\n",
    "        \n",
    "    for i in driver.find_elements_by_xpath('//div[@class=\"product-price\"]'):    #scraping data for prices\n",
    "        Prices_1.append(i.text)\n",
    "    nxt_button=driver.find_elements_by_xpath(\"//ul[@class='pagination-container']/li/a\")\n",
    "    try:\n",
    "        driver.get(nxt_button[1].get_attribute('href'))\n",
    "    except:\n",
    "        driver.get(nxt_button[0].get_attribute('href'))"
   ]
  },
  {
   "cell_type": "code",
   "execution_count": 7,
   "id": "28174081",
   "metadata": {
    "scrolled": true
   },
   "outputs": [],
   "source": [
    "#creating dataframe\n",
    "df_myntra=pd.DataFrame({'Brand':Brands_1[:100],\n",
    "                'Description':Descriptions_1[:100],\n",
    "                'Price':Prices_1[:100]})"
   ]
  },
  {
   "cell_type": "markdown",
   "id": "673684fc",
   "metadata": {},
   "source": [
    "# Q8.Laptops Amazon"
   ]
  },
  {
   "cell_type": "code",
   "execution_count": 2,
   "id": "1e4c1507",
   "metadata": {
    "scrolled": true
   },
   "outputs": [],
   "source": [
    "#Connecting to the webdriver\n",
    "driver=webdriver.Chrome('chromedriver.exe')\n",
    "\n",
    "url='https://www.amazon.in/'\n",
    "driver.get(url)\n",
    "\n",
    "#maximizing the window\n",
    "driver.maximize_window()"
   ]
  },
  {
   "cell_type": "code",
   "execution_count": 3,
   "id": "8f0e2a20",
   "metadata": {
    "scrolled": true
   },
   "outputs": [],
   "source": [
    "#Finding web element for search bar\n",
    "search=driver.find_element_by_id('twotabsearchtextbox')\n",
    "search.clear()\n",
    "#Write on search bar\n",
    "search.send_keys('laptop')"
   ]
  },
  {
   "cell_type": "code",
   "execution_count": 4,
   "id": "7c54be96",
   "metadata": {
    "scrolled": true
   },
   "outputs": [],
   "source": [
    "#Finding web element for search button\n",
    "search_btn=driver.find_element_by_id('nav-search-submit-button')\n",
    "\n",
    "#Clicking search button\n",
    "search_btn.click()"
   ]
  },
  {
   "cell_type": "code",
   "execution_count": 5,
   "id": "d4c2a9b4",
   "metadata": {
    "scrolled": true
   },
   "outputs": [],
   "source": [
    "#Applying cpu filter\n",
    "cpu_filter=driver.find_elements_by_xpath('//a[@class=\"a-link-normal s-navigation-item\"]')\n",
    "for i in cpu_filter:\n",
    "    if i.text=='Intel Core i7':\n",
    "        i.click()\n",
    "        break"
   ]
  },
  {
   "cell_type": "code",
   "execution_count": 6,
   "id": "085ecdb4",
   "metadata": {
    "scrolled": true
   },
   "outputs": [],
   "source": [
    "Descriptions_2=[] #creating blank lists\n",
    "Ratings_2=[]\n",
    "Prices_2=[]\n",
    "Lap_Link=[]\n",
    "\n",
    "#scrapping the Descriptions:\n",
    "descriptions=driver.find_elements_by_xpath('//span[@class=\"a-size-medium a-color-base a-text-normal\"]')\n",
    "for i in descriptions[:10]:\n",
    "    Descriptions_2.append(i.text)\n",
    "    \n",
    "#scraping the prices:\n",
    "price=driver.find_elements_by_xpath('//span[@class=\"a-price-whole\"]')\n",
    "for i in price[:10]:\n",
    "    Prices_2.append(i.text)\n",
    "\n",
    "time.sleep(5)\n",
    "\n",
    "#scraping data for ratings\n",
    "link=driver.find_elements_by_xpath(\"//a[@class='a-link-normal s-underline-text s-underline-link-text s-link-style a-text-normal']\")\n",
    "for i in link[:10]:\n",
    "    Lap_Link.append(i.get_attribute('href')) #adding link for laptop in a list\n",
    "for url in Lap_Link:\n",
    "    driver.get(url)\n",
    "    rating=driver.find_element_by_xpath(\"//span[@class='a-size-base a-nowrap']//span\") #getting rating from individual page\n",
    "    Ratings_2.append(rating.text) #adding ratings in a list"
   ]
  },
  {
   "cell_type": "code",
   "execution_count": 7,
   "id": "6cf35e50",
   "metadata": {},
   "outputs": [],
   "source": [
    "#Creating dataframe for laptop data\n",
    "datafr_lap=pd.DataFrame({\"Description\":Descriptions_2,\"Price\":Prices_2,\"Rating\":Ratings_2})"
   ]
  },
  {
   "cell_type": "markdown",
   "id": "a5d3589b",
   "metadata": {},
   "source": [
    "# Q9.Data Scientist Noida"
   ]
  },
  {
   "cell_type": "code",
   "execution_count": 2,
   "id": "b5140b2b",
   "metadata": {},
   "outputs": [],
   "source": [
    "#Connecting to the webdriver\n",
    "driver=webdriver.Chrome('chromedriver.exe')\n",
    "\n",
    "url='https://www.ambitionbox.com/'\n",
    "driver.get(url)\n",
    "\n",
    "#maximizing the window\n",
    "driver.maximize_window()"
   ]
  },
  {
   "cell_type": "code",
   "execution_count": 3,
   "id": "3adcb6d7",
   "metadata": {},
   "outputs": [],
   "source": [
    "#Clicking on Jobs option\n",
    "job_optn=driver.find_element_by_xpath('//a[@class=\"link jobs\"]')\n",
    "job_optn.click()\n",
    "\n",
    "#Finding web element for search bar\n",
    "search=driver.find_element_by_xpath('//span[@class=\"twitter-typeahead\"]/input')\n",
    "\n",
    "#Write on search bar\n",
    "search.send_keys('Data Scientist')\n",
    "\n",
    "#Finding web element for search button\n",
    "search_btn=driver.find_element_by_xpath('//span[@class=\"ctas-btn-medium\"]')\n",
    "\n",
    "#Clicking search button\n",
    "search_btn.click()"
   ]
  },
  {
   "cell_type": "code",
   "execution_count": 4,
   "id": "9f717801",
   "metadata": {},
   "outputs": [],
   "source": [
    "#clicking on location option\n",
    "location_btn=driver.find_element_by_xpath('/html/body/div/div/div/div[2]/div[2]/div[1]/div/div/div/div[2]/div[1]')\n",
    "location_btn.click()"
   ]
  },
  {
   "cell_type": "code",
   "execution_count": 5,
   "id": "f185ced4",
   "metadata": {},
   "outputs": [],
   "source": [
    "#locating search location bar\n",
    "search_loc=driver.find_element_by_xpath('/html/body/div/div/div/div[2]/div[2]/div[1]/div/div/div/div[2]/div[2]/div/div[2]/input')\n",
    "\n",
    "#sending location key to search\n",
    "search_loc.send_keys('Noida')"
   ]
  },
  {
   "cell_type": "code",
   "execution_count": 6,
   "id": "ce6528e1",
   "metadata": {},
   "outputs": [],
   "source": [
    "#selecting the radio button\n",
    "radio_btn=driver.find_element_by_xpath('/html/body/div/div/div/div[2]/div[2]/div[1]/div/div/div/div[2]/div[2]/div/div[3]/div[1]/div[1]/div/label')\n",
    "\n",
    "radio_btn.click()"
   ]
  },
  {
   "cell_type": "code",
   "execution_count": 7,
   "id": "8ed9bd98",
   "metadata": {},
   "outputs": [],
   "source": [
    "#creating empty lists\n",
    "Company=[]\n",
    "Days_Posted=[]\n",
    "Rating=[]\n",
    "\n",
    "company_name=driver.find_elements_by_xpath('//p[@class=\"company body-medium\"]') #extracting company names\n",
    "for i in company_name[:10]:\n",
    "    Company.append(i.text)\n",
    "\n",
    "days_old=driver.find_elements_by_xpath('//div[@class=\"other-info\"]/span[1]') #extracting posted ago\n",
    "for i in days_old[:10]:\n",
    "    Days_Posted.append(i.text)\n",
    "    \n",
    "ratings=driver.find_elements_by_xpath('//span[@class=\"body-small\"]') #extracting ratings\n",
    "for i in ratings[:10]:\n",
    "    Rating.append(i.text)"
   ]
  },
  {
   "cell_type": "code",
   "execution_count": 8,
   "id": "674e9c9a",
   "metadata": {},
   "outputs": [
    {
     "data": {
      "text/plain": [
       "(10, 10, 10)"
      ]
     },
     "execution_count": 8,
     "metadata": {},
     "output_type": "execute_result"
    }
   ],
   "source": [
    "len(Company),len(Days_Posted),len(Rating)"
   ]
  },
  {
   "cell_type": "code",
   "execution_count": null,
   "id": "865d4703",
   "metadata": {},
   "outputs": [],
   "source": [
    "#creating dataframe\n",
    "\n",
    "df = pd.DataFrame({'companies':Company,'no_of_days_ago':Days_Posted,'company_rating':Rating})\n",
    "df"
   ]
  },
  {
   "cell_type": "markdown",
   "id": "626409cd",
   "metadata": {},
   "source": [
    "# Q10.Salaries Data Scientist"
   ]
  },
  {
   "cell_type": "code",
   "execution_count": 9,
   "id": "481d70cd",
   "metadata": {},
   "outputs": [],
   "source": [
    "#Connecting to the webdriver\n",
    "driver=webdriver.Chrome('chromedriver.exe')\n",
    "\n",
    "url='https://www.ambitionbox.com/'\n",
    "driver.get(url)\n",
    "\n",
    "#maximizing the window\n",
    "driver.maximize_window()"
   ]
  },
  {
   "cell_type": "code",
   "execution_count": 10,
   "id": "1c3c85d9",
   "metadata": {},
   "outputs": [],
   "source": [
    "#Clicking on salaries option\n",
    "salaries_optn=driver.find_element_by_xpath('//a[@class=\"link salaries\"]')\n",
    "salaries_optn.click()"
   ]
  },
  {
   "cell_type": "code",
   "execution_count": 12,
   "id": "df773d42",
   "metadata": {},
   "outputs": [],
   "source": [
    "#Finding web element for search bar\n",
    "search=driver.find_element_by_xpath('//span[@class=\"twitter-typeahead\"]/input')\n",
    "\n",
    "#Write on search bar\n",
    "search.send_keys('Data Scientist')"
   ]
  },
  {
   "cell_type": "code",
   "execution_count": 13,
   "id": "0f7e2948",
   "metadata": {},
   "outputs": [],
   "source": [
    "#Finding web element for search button\n",
    "search_btn=driver.find_element_by_xpath('//span[@class=\"ctas-btn-medium\"]')\n",
    "\n",
    "#Clicking search button\n",
    "search_btn.click()"
   ]
  },
  {
   "cell_type": "code",
   "execution_count": 14,
   "id": "b9bc9fca",
   "metadata": {},
   "outputs": [],
   "source": [
    "#Finding web element for job profile\n",
    "search_ds=driver.find_element_by_xpath('/html/body/section[1]/div/section/div/div/div/div/div/div/div[5]/div[2]/div/div/div[1]/div[1]/div[1]/div[1]/div/a')\n",
    "\n",
    "#Clicking search button\n",
    "search_ds.click()"
   ]
  },
  {
   "cell_type": "code",
   "execution_count": 15,
   "id": "87809d21",
   "metadata": {},
   "outputs": [],
   "source": [
    "#creating empty lists\n",
    "Company_2=[]\n",
    "Salaries=[]\n",
    "exp=[]\n",
    "avg_sal=[]\n",
    "min_sal=[]\n",
    "max_sal=[]"
   ]
  },
  {
   "cell_type": "code",
   "execution_count": 16,
   "id": "fa3dc4f4",
   "metadata": {},
   "outputs": [],
   "source": [
    "company_names=driver.find_elements_by_xpath(\"//div[@class='name']/a\") #extracting company names\n",
    "for i in company_names:\n",
    "    Company_2.append(i.text)\n",
    "\n",
    "salaries_2=driver.find_elements_by_xpath(\"//div[@class='name']/span\") #extracting record of salaries\n",
    "for i in salaries_2[:10]:\n",
    "    Salaries.append(i.text)\n",
    "    \n",
    "exp_all=driver.find_elements_by_xpath('//div[@class=\"salaries one-line sbold-list-header\"]') #extracting expereince\n",
    "for i in exp_all[:10]:\n",
    "    exp.append(i.text.split('\\n')[2])\n",
    "    \n",
    "avg_all=driver.find_elements_by_xpath('//p[@class='averageCtc']') #extracting average salaries\n",
    "for i in avg_all[:10]:\n",
    "    avg.append(i.text)\n",
    "    \n",
    "min_all=driver.find_elements_by_xpath('//div[@class='salary-values']/div[1]') #extracting minimum salaries\n",
    "for i in min_all[:10]:\n",
    "    min_sal.append(i.text)\n",
    "\n",
    "max_all=driver.find_elements_by_xpath('//div[@class='salary-values']/div[2]') #extracting maximum salaries\n",
    "for i in max_all[:10]:\n",
    "    max_sal.append(i.text)"
   ]
  },
  {
   "cell_type": "code",
   "execution_count": null,
   "id": "d537f5ae",
   "metadata": {},
   "outputs": [],
   "source": [
    "#creating dataframe\n",
    "\n",
    "df = pd.DataFrame({'companies':Company_2,'Salary records':Salaries,'Experience':exp,'Average Salaries':avg,'Minimum Salaries':min_sal,'Maximum Salaries':max_sal})\n",
    "df"
   ]
  }
 ],
 "metadata": {
  "kernelspec": {
   "display_name": "Python 3",
   "language": "python",
   "name": "python3"
  },
  "language_info": {
   "codemirror_mode": {
    "name": "ipython",
    "version": 3
   },
   "file_extension": ".py",
   "mimetype": "text/x-python",
   "name": "python",
   "nbconvert_exporter": "python",
   "pygments_lexer": "ipython3",
   "version": "3.8.8"
  }
 },
 "nbformat": 4,
 "nbformat_minor": 5
}
